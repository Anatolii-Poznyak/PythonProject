{
 "cells": [
  {
   "cell_type": "code",
   "execution_count": 1,
   "id": "519810fa",
   "metadata": {},
   "outputs": [
    {
     "data": {
      "text/plain": [
       "8"
      ]
     },
     "execution_count": 1,
     "metadata": {},
     "output_type": "execute_result"
    }
   ],
   "source": [
    "5+3"
   ]
  },
  {
   "cell_type": "code",
   "execution_count": 2,
   "id": "204de169",
   "metadata": {},
   "outputs": [
    {
     "name": "stdout",
     "output_type": "stream",
     "text": [
      "Hi bro!\n"
     ]
    }
   ],
   "source": [
    "print(\"Hi bro!\")"
   ]
  },
  {
   "cell_type": "code",
   "execution_count": null,
   "id": "edd8fdc3",
   "metadata": {},
   "outputs": [],
   "source": []
  },
  {
   "cell_type": "code",
   "execution_count": 3,
   "id": "ad9f68a5",
   "metadata": {},
   "outputs": [],
   "source": [
    "def bir(name):\n",
    "    x = input(\"what da fuc?\")\n",
    "    for i in x:\n",
    "        print(i)\n"
   ]
  },
  {
   "cell_type": "code",
   "execution_count": null,
   "id": "6aae9d5f",
   "metadata": {},
   "outputs": [],
   "source": [
    "bir()"
   ]
  }
 ],
 "metadata": {
  "kernelspec": {
   "display_name": "Python 3 (ipykernel)",
   "language": "python",
   "name": "python3"
  },
  "language_info": {
   "codemirror_mode": {
    "name": "ipython",
    "version": 3
   },
   "file_extension": ".py",
   "mimetype": "text/x-python",
   "name": "python",
   "nbconvert_exporter": "python",
   "pygments_lexer": "ipython3",
   "version": "3.11.1"
  }
 },
 "nbformat": 4,
 "nbformat_minor": 5
}
